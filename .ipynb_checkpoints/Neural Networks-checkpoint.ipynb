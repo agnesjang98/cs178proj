{
 "cells": [
  {
   "cell_type": "code",
   "execution_count": 1,
   "metadata": {},
   "outputs": [],
   "source": [
    "import numpy as np\n",
    "import mltools as ml\n",
    "import matplotlib.pyplot as plt   # use matplotlib for plotting with inline plots\n",
    "\n",
    "X = np.genfromtxt('data/X_train.txt', delimiter=None)\n",
    "Y = np.genfromtxt('data/Y_train.txt', delimiter=None)\n",
    "\n",
    "Xtr, Xva, Ytr, Yva = ml.splitData(X, Y)\n",
    "Xtr, Ytr = ml.shuffleData(Xtr, Ytr)\n",
    "\n",
    "Xtr,Ytr = ml.shuffleData(Xtr,Ytr)"
   ]
  },
  {
   "cell_type": "code",
   "execution_count": null,
   "metadata": {},
   "outputs": [
    {
     "name": "stdout",
     "output_type": "stream",
     "text": [
      "it 1 : Jsur = 0.4496098838287166, J01 = 0.3411125\n",
      "it 2 : Jsur = 0.45010466083128686, J01 = 0.3411125\n",
      "it 4 : Jsur = 0.44486262258522713, J01 = 0.3411125\n",
      "it 8 : Jsur = 0.43766883742219936, J01 = 0.3411125\n",
      "it 16 : Jsur = 0.4373047053998878, J01 = 0.3411125\n"
     ]
    }
   ],
   "source": [
    "# Neural Network\n",
    "nn = ml.nnet.nnetClassify()\n",
    "nn.init_weights([Xtr.shape[1], 5, len(np.unique(Ytr))], 'random', Xtr, Ytr)\n",
    "nn.train(Xtr, Ytr, stopTol=1e-8, stepsize=.25, stopIter=50)"
   ]
  },
  {
   "cell_type": "code",
   "execution_count": null,
   "metadata": {},
   "outputs": [],
   "source": [
    "print(\"{0:>15}: {1:.4f}\".format('Train AUC',nn.auc(Xt, Yt)))\n",
    "print(\"{0:>15}: {1:.4f}\".format('Validation AUC', nn.auc(Xva, Yva)))"
   ]
  },
  {
   "cell_type": "code",
   "execution_count": null,
   "metadata": {},
   "outputs": [],
   "source": [
    "nn.setActivation('logistic')\n",
    "nn.train(Xtr, Ytr, stopTol=1e-8, stepsize=.25, stopIter=100)\n",
    "print(\"{0:>15}: {1:.4f}\".format('Train AUC',nn.auc(Xtr, Ytr)))\n",
    "print(\"{0:>15}: {1:.4f}\".format('Validation AUC', nn.auc(Xva, Yva)))"
   ]
  },
  {
   "cell_type": "code",
   "execution_count": null,
   "metadata": {},
   "outputs": [],
   "source": []
  }
 ],
 "metadata": {
  "kernelspec": {
   "display_name": "Python 3",
   "language": "python",
   "name": "python3"
  },
  "language_info": {
   "codemirror_mode": {
    "name": "ipython",
    "version": 3
   },
   "file_extension": ".py",
   "mimetype": "text/x-python",
   "name": "python",
   "nbconvert_exporter": "python",
   "pygments_lexer": "ipython3",
   "version": "3.6.5"
  }
 },
 "nbformat": 4,
 "nbformat_minor": 2
}
