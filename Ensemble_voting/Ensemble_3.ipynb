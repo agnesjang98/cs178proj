{
 "cells": [
  {
   "cell_type": "code",
   "execution_count": 8,
   "metadata": {},
   "outputs": [
    {
     "name": "stdout",
     "output_type": "stream",
     "text": [
      "Training data performance: 0.980489347306162\n"
     ]
    }
   ],
   "source": [
    "import numpy as np\n",
    "import matplotlib.pyplot as plt\n",
    "import mltools as ml\n",
    "from sklearn.ensemble import RandomForestClassifier\n",
    "from sklearn.metrics import roc_curve, auc\n",
    "from sklearn.ensemble import VotingClassifier\n",
    "from sklearn.neighbors import KNeighborsClassifier\n",
    "from sklearn.neural_network import MLPClassifier\n",
    "\n",
    "X_train = np.genfromtxt('data/X_train.txt', delimiter=None) \n",
    "Y_train = np.genfromtxt('data/Y_train.txt', delimiter=None) \n",
    "X_test = np.genfromtxt('data/X_test.txt', delimiter=None) \n",
    "\n",
    "X_train, X_val, Y_train, Y_val = ml.splitData(X_train, Y_train, 0.80)\n",
    "\n",
    "#random forrest classifier\n",
    "rf_classifier = RandomForestClassifier(n_estimators=100, random_state=0)\n",
    "\n",
    "#knn classifier\n",
    "knn_classifier = KNeighborsClassifier(metric_params=None, n_jobs=1, n_neighbors=5, p=1, weights='uniform')\n",
    "\n",
    "#neural network \n",
    "nn_clf = MLPClassifier(solver='lbfgs', alpha=1e-5,hidden_layer_sizes=(5, 2), random_state=1)\n",
    "\n",
    "                    \n",
    "#voting method\n",
    "voting_classifier = VotingClassifier(estimators=[('rf', rf_classifier), ('knn', knn_classifier), ('nn', nn_clf)], voting='soft')\n",
    "\n",
    "voting_classifier.fit(X_train, Y_train)\n",
    "\n",
    "pred_soft = voting_classifier.predict_proba(X_train)\n",
    "fpr, tpr, thresholds = roc_curve(Y_train, pred_soft[:,1])\n",
    "roc_auc = auc(fpr, tpr)\n",
    "print(\"Training data performance: \" + str(roc_auc))\n"
   ]
  },
  {
   "cell_type": "code",
   "execution_count": 9,
   "metadata": {},
   "outputs": [
    {
     "name": "stdout",
     "output_type": "stream",
     "text": [
      "Validation data performance: 0.7417395094688723\n"
     ]
    }
   ],
   "source": [
    "pred_soft = voting_classifier.predict_proba(X_val)\n",
    "fpr, tpr, thresholds = roc_curve(Y_val, pred_soft[:,1])\n",
    "roc_auc = auc(fpr, tpr)\n",
    "print(\"Validation data performance: \" + str(roc_auc))"
   ]
  },
  {
   "cell_type": "code",
   "execution_count": 11,
   "metadata": {},
   "outputs": [],
   "source": [
    "pred_soft = voting_classifier.predict_proba(X_test)\n",
    "np.savetxt('ensemble.txt',\n",
    "np.vstack( (np.arange(len(pred_soft)) , pred_soft[:,1]) ).T,'%d, %.2f',header='ID,Prob1',comments='',delimiter=',');"
   ]
  }
 ],
 "metadata": {
  "kernelspec": {
   "display_name": "Python 2",
   "language": "python",
   "name": "python2"
  },
  "language_info": {
   "codemirror_mode": {
    "name": "ipython",
    "version": 2
   },
   "file_extension": ".py",
   "mimetype": "text/x-python",
   "name": "python",
   "nbconvert_exporter": "python",
   "pygments_lexer": "ipython2",
   "version": "2.7.15"
  }
 },
 "nbformat": 4,
 "nbformat_minor": 2
}
