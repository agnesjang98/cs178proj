{
 "cells": [
  {
   "cell_type": "code",
   "execution_count": 8,
   "metadata": {},
   "outputs": [],
   "source": [
    "import numpy as np\n",
    "import mltools as ml\n",
    "import matplotlib.pyplot as plt   # use matplotlib for plotting with inline plots\n",
    "\n",
    "X = np.genfromtxt('data/X_train.txt', delimiter=None)\n",
    "Y = np.genfromtxt('data/Y_train.txt', delimiter=None)\n",
    "\n",
    "Xtr, Xva, Ytr, Yva = ml.splitData(X, Y)\n",
    "Xtr, Ytr = ml.shuffleData(Xtr, Ytr)"
   ]
  },
  {
   "cell_type": "code",
   "execution_count": 9,
   "metadata": {},
   "outputs": [
    {
     "name": "stdout",
     "output_type": "stream",
     "text": [
      "it 1 : Jsur = 0.4547484262070543, J01 = 0.3385\n",
      "it 2 : Jsur = 0.44188404886581256, J01 = 0.3411125\n",
      "it 4 : Jsur = 0.4392253667439193, J01 = 0.3411125\n",
      "it 8 : Jsur = 0.4392054378875303, J01 = 0.3411125\n",
      "it 16 : Jsur = 0.43465112241926657, J01 = 0.324725\n",
      "it 32 : Jsur = 0.4318786389203789, J01 = 0.3252625\n"
     ]
    }
   ],
   "source": [
    "# Neural Network\n",
    "nn = ml.nnet.nnetClassify()\n",
    "nn.init_weights([Xtr.shape[1], 5, len(np.unique(Ytr))], 'random', Xtr, Ytr)\n",
    "nn.train(Xtr, Ytr, stopTol=1e-8, stepsize=.25, stopIter=50)"
   ]
  },
  {
   "cell_type": "code",
   "execution_count": 10,
   "metadata": {},
   "outputs": [
    {
     "name": "stdout",
     "output_type": "stream",
     "text": [
      "Training error: 0.3227375\n",
      "Validation error: 0.3241\n"
     ]
    }
   ],
   "source": [
    "print(\"Training error:\", nn.err(Xtr, Ytr))\n",
    "print(\"Validation error:\", nn.err(Xva, Yva))"
   ]
  },
  {
   "cell_type": "code",
   "execution_count": 11,
   "metadata": {},
   "outputs": [
    {
     "name": "stdout",
     "output_type": "stream",
     "text": [
      "      Train AUC: 0.5908\n",
      " Validation AUC: 0.5920\n"
     ]
    }
   ],
   "source": [
    "print(\"{0:>15}: {1:.4f}\".format('Train AUC',nn.auc(Xtr, Ytr)))\n",
    "print(\"{0:>15}: {1:.4f}\".format('Validation AUC', nn.auc(Xva, Yva)))"
   ]
  },
  {
   "cell_type": "code",
   "execution_count": 12,
   "metadata": {},
   "outputs": [
    {
     "name": "stderr",
     "output_type": "stream",
     "text": [
      "C:\\Users\\agnes\\Documents\\UCI\\UCI Year 3\\Fall Quarter\\CS 178\\Homework (New)\\cs178finalproj\\mltools\\nnet.py:218: RuntimeWarning: overflow encountered in exp\n",
      "  self.Sig = lambda z: twod(1 / (1 + np.exp(-z)))\n"
     ]
    },
    {
     "name": "stdout",
     "output_type": "stream",
     "text": [
      "it 1 : Jsur = 0.4445037771978382, J01 = 0.34075\n",
      "it 2 : Jsur = 0.4424302944058966, J01 = 0.3411125\n",
      "it 4 : Jsur = 0.4422442242710588, J01 = 0.339375\n",
      "it 8 : Jsur = 0.4417312527732788, J01 = 0.340875\n",
      "it 16 : Jsur = 0.4405375786878905, J01 = 0.33895\n",
      "it 32 : Jsur = 0.43999081121187966, J01 = 0.3377375\n",
      "it 64 : Jsur = 0.439695544969447, J01 = 0.337175\n",
      "      Train AUC: 0.5749\n",
      " Validation AUC: 0.5664\n"
     ]
    }
   ],
   "source": [
    "nn.setActivation('logistic')\n",
    "nn.train(Xtr, Ytr, stopTol=1e-8, stepsize=.25, stopIter=100)\n",
    "print(\"{0:>15}: {1:.4f}\".format('Train AUC',nn.auc(Xtr, Ytr)))\n",
    "print(\"{0:>15}: {1:.4f}\".format('Validation AUC', nn.auc(Xva, Yva)))"
   ]
  },
  {
   "cell_type": "code",
   "execution_count": 13,
   "metadata": {},
   "outputs": [
    {
     "name": "stdout",
     "output_type": "stream",
     "text": [
      "Training error: 0.337125\n",
      "Validation error: 0.3393\n"
     ]
    },
    {
     "name": "stderr",
     "output_type": "stream",
     "text": [
      "C:\\Users\\agnes\\Documents\\UCI\\UCI Year 3\\Fall Quarter\\CS 178\\Homework (New)\\cs178finalproj\\mltools\\nnet.py:218: RuntimeWarning: overflow encountered in exp\n",
      "  self.Sig = lambda z: twod(1 / (1 + np.exp(-z)))\n"
     ]
    }
   ],
   "source": [
    "print(\"Training error:\", nn.err(Xtr, Ytr))\n",
    "print(\"Validation error:\", nn.err(Xva, Yva))"
   ]
  },
  {
   "cell_type": "code",
   "execution_count": 15,
   "metadata": {},
   "outputs": [
    {
     "name": "stderr",
     "output_type": "stream",
     "text": [
      "C:\\Users\\agnes\\Documents\\UCI\\UCI Year 3\\Fall Quarter\\CS 178\\Homework (New)\\cs178finalproj\\mltools\\nnet.py:218: RuntimeWarning: overflow encountered in exp\n",
      "  self.Sig = lambda z: twod(1 / (1 + np.exp(-z)))\n"
     ]
    }
   ],
   "source": [
    "Xte = np.genfromtxt('data/X_test.txt', delimiter=None)\n",
    "Yte = np.vstack((np.arange(Xte.shape[0]), nn.predictSoft(Xte)[:,1])).T\n",
    "np.savetxt('Y_submit.txt',Yte,'%d, %.2f',header='ID,Prob1',comments='',delimiter=',')"
   ]
  },
  {
   "cell_type": "code",
   "execution_count": null,
   "metadata": {},
   "outputs": [],
   "source": []
  }
 ],
 "metadata": {
  "kernelspec": {
   "display_name": "Python 3",
   "language": "python",
   "name": "python3"
  },
  "language_info": {
   "codemirror_mode": {
    "name": "ipython",
    "version": 3
   },
   "file_extension": ".py",
   "mimetype": "text/x-python",
   "name": "python",
   "nbconvert_exporter": "python",
   "pygments_lexer": "ipython3",
   "version": "3.6.5"
  }
 },
 "nbformat": 4,
 "nbformat_minor": 2
}
