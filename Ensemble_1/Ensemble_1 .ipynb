{
 "cells": [
  {
   "cell_type": "code",
   "execution_count": null,
   "metadata": {},
   "outputs": [],
   "source": [
    "# Ensembles using averaging "
   ]
  },
  {
   "cell_type": "code",
   "execution_count": 15,
   "metadata": {},
   "outputs": [],
   "source": [
    "import numpy as np\n",
    "import matplotlib.pyplot as plt\n",
    "import mltools as ml\n",
    "import sklearn\n",
    "from sklearn.linear_model import LogisticRegression\n",
    "from sklearn.metrics import roc_curve, auc\n",
    "import seaborn as sns\n",
    "import pandas as pd\n",
    "import numpy as np\n",
    "import matplotlib.pyplot as plt\n",
    "import mltools as ml\n",
    "from sklearn.neighbors import KNeighborsClassifier\n",
    "from sklearn.ensemble import RandomForestRegressor"
   ]
  },
  {
   "cell_type": "code",
   "execution_count": 11,
   "metadata": {},
   "outputs": [],
   "source": [
    "X = np.genfromtxt('data/X_train.txt', delimiter=None)\n",
    "Y = np.genfromtxt('data/Y_train.txt', delimiter=None)\n",
    "Xte = np.genfromtxt('data/X_test.txt', delimiter=None)\n",
    "\n",
    "Xtr, Xva, Ytr, Yva = ml.splitData(X, Y)\n",
    "Xtr, Ytr = ml.shuffleData(Xtr, Ytr)"
   ]
  },
  {
   "cell_type": "code",
   "execution_count": 42,
   "metadata": {},
   "outputs": [
    {
     "name": "stdout",
     "output_type": "stream",
     "text": [
      "[[0.0000e+00 6.0000e-01]\n",
      " [1.0000e+00 2.0000e-01]\n",
      " [2.0000e+00 4.0000e-01]\n",
      " ...\n",
      " [9.9997e+04 6.0000e-01]\n",
      " [9.9998e+04 6.0000e-01]\n",
      " [9.9999e+04 0.0000e+00]]\n"
     ]
    }
   ],
   "source": [
    "# using knn\n",
    "knn = KNeighborsClassifier(metric_params=None, n_jobs=1, n_neighbors=5, p=1, weights='uniform')\n",
    "knn.fit(Xtr,Ytr) \n",
    "KNNPred = np.vstack((np.arange(Xte.shape[0]), knn.predict_proba(Xte)[:,1])).T"
   ]
  },
  {
   "cell_type": "code",
   "execution_count": 13,
   "metadata": {},
   "outputs": [
    {
     "name": "stdout",
     "output_type": "stream",
     "text": [
      "it 1 : Jsur = 0.441649751904, J01 = 0.3406\n",
      "it 2 : Jsur = 0.436754660498, J01 = 0.341\n",
      "it 4 : Jsur = 0.438506563704, J01 = 0.3439125\n",
      "it 8 : Jsur = 0.436677003216, J01 = 0.3377125\n",
      "it 16 : Jsur = 0.437172045814, J01 = 0.3358\n",
      "it 32 : Jsur = 0.43289549051, J01 = 0.3304125\n"
     ]
    }
   ],
   "source": [
    "# using neutral networks \n",
    "nn = ml.nnet.nnetClassify()\n",
    "nn.init_weights([Xtr.shape[1], 5, len(np.unique(Ytr))], 'random', Xtr, Ytr)\n",
    "nn.train(Xtr, Ytr, stopTol=1e-8, stepsize=.25, stopIter=50)\n",
    "NNPred = np.vstack((np.arange(Xte.shape[0]), nn.predictSoft(Xte)[:,1])).T"
   ]
  },
  {
   "cell_type": "code",
   "execution_count": 21,
   "metadata": {},
   "outputs": [],
   "source": [
    "# using RAINFORESTS :-) \n",
    "clf = RandomForestRegressor(n_estimators=100, random_state=0)\n",
    "learner = clf.fit(X, Y)\n",
    "RFPred = np.vstack((np.arange(Xte.shape[0]), learner.predict(Xte)[:])).T"
   ]
  },
  {
   "cell_type": "code",
   "execution_count": 46,
   "metadata": {},
   "outputs": [],
   "source": [
    "l = []\n",
    "l.append(KNNPred)\n",
    "l.append(NNPred)\n",
    "l.append(RFPred)\n",
    "Yte = np.mean(l,axis=0)"
   ]
  },
  {
   "cell_type": "code",
   "execution_count": 48,
   "metadata": {},
   "outputs": [],
   "source": [
    "np.savetxt('Y_submit_ensemble_1.txt', Yte,'%d, %.2f',header='ID,Prob1',comments='',delimiter=',')"
   ]
  },
  {
   "cell_type": "code",
   "execution_count": null,
   "metadata": {},
   "outputs": [],
   "source": []
  }
 ],
 "metadata": {
  "kernelspec": {
   "display_name": "Python 2",
   "language": "python",
   "name": "python2"
  },
  "language_info": {
   "codemirror_mode": {
    "name": "ipython",
    "version": 2
   },
   "file_extension": ".py",
   "mimetype": "text/x-python",
   "name": "python",
   "nbconvert_exporter": "python",
   "pygments_lexer": "ipython2",
   "version": "2.7.15"
  }
 },
 "nbformat": 4,
 "nbformat_minor": 2
}
