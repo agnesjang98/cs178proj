{
 "cells": [
  {
   "cell_type": "code",
   "execution_count": 1,
   "metadata": {},
   "outputs": [
    {
     "name": "stderr",
     "output_type": "stream",
     "text": [
      "/anaconda2/lib/python2.7/site-packages/sklearn/ensemble/weight_boosting.py:29: DeprecationWarning: numpy.core.umath_tests is an internal NumPy module and should not be imported. It will be removed in a future NumPy release.\n",
      "  from numpy.core.umath_tests import inner1d\n"
     ]
    },
    {
     "name": "stdout",
     "output_type": "stream",
     "text": [
      "0.9963986521589827\n"
     ]
    }
   ],
   "source": [
    "import numpy as np\n",
    "import matplotlib.pyplot as plt\n",
    "import mltools as ml\n",
    "from sklearn.ensemble import RandomForestClassifier\n",
    "from sklearn.metrics import roc_curve, auc\n",
    "\n",
    "X_train = np.genfromtxt('data/X_train.txt', delimiter=None) \n",
    "Y_train = np.genfromtxt('data/Y_train.txt', delimiter=None) \n",
    "X_test = np.genfromtxt('data/X_test.txt', delimiter=None) \n",
    "\n",
    "X_train, X_val, Y_train, Y_val = ml.splitData(X_train, Y_train, 0.80)\n",
    "\n",
    "clf = RandomForestClassifier(n_estimators=100, random_state=0)\n",
    "clf.fit(X_train, Y_train)\n",
    "\n",
    "learner_soft = clf.predict_proba(X_train)\n",
    "false_positive_rate, true_positive_rate, thresholds = roc_curve(Y_train,learner_soft[:,1])\n",
    "roc_auc = auc(false_positive_rate, true_positive_rate)\n",
    "print roc_auc"
   ]
  },
  {
   "cell_type": "code",
   "execution_count": 2,
   "metadata": {},
   "outputs": [
    {
     "name": "stdout",
     "output_type": "stream",
     "text": [
      "0.7352832097761889\n"
     ]
    }
   ],
   "source": [
    "learner_soft = clf.predict_proba(X_val)\n",
    "false_positive_rate, true_positive_rate, thresholds = roc_curve(Y_val,learner_soft[:,1])\n",
    "roc_auc = auc(false_positive_rate, true_positive_rate)\n",
    "print roc_auc"
   ]
  }
 ],
 "metadata": {
  "kernelspec": {
   "display_name": "Python 2",
   "language": "python",
   "name": "python2"
  },
  "language_info": {
   "codemirror_mode": {
    "name": "ipython",
    "version": 2
   },
   "file_extension": ".py",
   "mimetype": "text/x-python",
   "name": "python",
   "nbconvert_exporter": "python",
   "pygments_lexer": "ipython2",
   "version": "2.7.15"
  }
 },
 "nbformat": 4,
 "nbformat_minor": 2
}
