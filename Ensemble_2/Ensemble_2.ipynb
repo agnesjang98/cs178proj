{
 "cells": [
  {
   "cell_type": "code",
   "execution_count": null,
   "metadata": {},
   "outputs": [],
   "source": [
    "# Ensembles using weighted averaging "
   ]
  },
  {
   "cell_type": "code",
   "execution_count": 2,
   "metadata": {},
   "outputs": [],
   "source": [
    "import numpy as np\n",
    "import matplotlib.pyplot as plt\n",
    "import mltools as ml\n",
    "import sklearn\n",
    "from sklearn.linear_model import LogisticRegression\n",
    "from sklearn.metrics import roc_curve, auc\n",
    "import seaborn as sns\n",
    "import pandas as pd\n",
    "import numpy as np\n",
    "import matplotlib.pyplot as plt\n",
    "import mltools as ml\n",
    "from sklearn.neighbors import KNeighborsClassifier\n",
    "from sklearn.ensemble import RandomForestRegressor"
   ]
  },
  {
   "cell_type": "code",
   "execution_count": 3,
   "metadata": {},
   "outputs": [],
   "source": [
    "X = np.genfromtxt('data/X_train.txt', delimiter=None)\n",
    "Y = np.genfromtxt('data/Y_train.txt', delimiter=None)\n",
    "Xte = np.genfromtxt('data/X_test.txt', delimiter=None)\n",
    "\n",
    "Xtr, Xva, Ytr, Yva = ml.splitData(X, Y)\n",
    "Xtr, Ytr = ml.shuffleData(Xtr, Ytr)"
   ]
  },
  {
   "cell_type": "code",
   "execution_count": 49,
   "metadata": {},
   "outputs": [],
   "source": [
    "# using knn\n",
    "knn = KNeighborsClassifier(metric_params=None, n_jobs=1, n_neighbors=5, p=1, weights='uniform')\n",
    "knn.fit(Xtr,Ytr) \n",
    "KNNPred = np.vstack((np.arange(Xte.shape[0]), knn.predict_proba(Xte)[:,1])).T\n",
    "KNNPred[:,1] *= 0.25"
   ]
  },
  {
   "cell_type": "code",
   "execution_count": 52,
   "metadata": {},
   "outputs": [],
   "source": [
    "np.savetxt('Y_submit_ensemble_KNN.txt', KNNPred,'%d, %.2f',header='ID,Prob1',comments='',delimiter=',')"
   ]
  },
  {
   "cell_type": "code",
   "execution_count": 5,
   "metadata": {},
   "outputs": [
    {
     "name": "stdout",
     "output_type": "stream",
     "text": [
      "it 1 : Jsur = 0.439479950256, J01 = 0.3411125\n",
      "it 2 : Jsur = 0.437188313354, J01 = 0.3411125\n",
      "it 4 : Jsur = 0.438995875095, J01 = 0.3411125\n",
      "it 8 : Jsur = 0.436759761473, J01 = 0.3411125\n",
      "it 16 : Jsur = 0.432180661111, J01 = 0.325\n",
      "it 32 : Jsur = 0.431454931455, J01 = 0.328925\n"
     ]
    }
   ],
   "source": [
    "# using neutral networks \n",
    "nn = ml.nnet.nnetClassify()\n",
    "nn.init_weights([Xtr.shape[1], 5, len(np.unique(Ytr))], 'random', Xtr, Ytr)\n",
    "nn.train(Xtr, Ytr, stopTol=1e-8, stepsize=.25, stopIter=50)\n",
    "NNPred = np.vstack((np.arange(Xte.shape[0]), nn.predictSoft(Xte)[:,1])).T\n",
    "NNPred[:,1] *= 0.05"
   ]
  },
  {
   "cell_type": "code",
   "execution_count": 54,
   "metadata": {},
   "outputs": [],
   "source": [
    "np.savetxt('Y_submit_ensemble_NN.txt', NNPred,'%d, %.2f',header='ID,Prob1',comments='',delimiter=',')"
   ]
  },
  {
   "cell_type": "code",
   "execution_count": 50,
   "metadata": {},
   "outputs": [],
   "source": [
    "# using RAINFORESTS :-) \n",
    "clf = RandomForestRegressor(n_estimators=100, random_state=0)\n",
    "learner = clf.fit(X, Y)\n",
    "RFPred = np.vstack((np.arange(Xte.shape[0]), learner.predict(Xte)[:])).T\n",
    "RFPred[:,1] *= 0.7"
   ]
  },
  {
   "cell_type": "code",
   "execution_count": 55,
   "metadata": {},
   "outputs": [],
   "source": [
    "np.savetxt('Y_submit_ensemble_RF.txt', RFPred,'%d, %.2f',header='ID,Prob1',comments='',delimiter=',')"
   ]
  },
  {
   "cell_type": "code",
   "execution_count": 57,
   "metadata": {},
   "outputs": [],
   "source": [
    "temp = KNNPred[:,1] + NNPred[:,1] + RFPred[:,1]"
   ]
  },
  {
   "cell_type": "code",
   "execution_count": 61,
   "metadata": {},
   "outputs": [],
   "source": [
    "Yte = []\n",
    "for i, val in enumerate(temp):\n",
    "    l = [i, val]\n",
    "    Yte.append(l)"
   ]
  },
  {
   "cell_type": "code",
   "execution_count": 63,
   "metadata": {},
   "outputs": [],
   "source": [
    "np.savetxt('Y_submit_ensemble_2.txt', Yte,'%d, %.2f',header='ID,Prob1',comments='',delimiter=',')"
   ]
  },
  {
   "cell_type": "code",
   "execution_count": null,
   "metadata": {},
   "outputs": [],
   "source": []
  }
 ],
 "metadata": {
  "kernelspec": {
   "display_name": "Python 2",
   "language": "python",
   "name": "python2"
  },
  "language_info": {
   "codemirror_mode": {
    "name": "ipython",
    "version": 2
   },
   "file_extension": ".py",
   "mimetype": "text/x-python",
   "name": "python",
   "nbconvert_exporter": "python",
   "pygments_lexer": "ipython2",
   "version": "2.7.15"
  }
 },
 "nbformat": 4,
 "nbformat_minor": 2
}
