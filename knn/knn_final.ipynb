{
 "cells": [
  {
   "cell_type": "code",
   "execution_count": 2,
   "metadata": {},
   "outputs": [
    {
     "name": "stderr",
     "output_type": "stream",
     "text": [
      "/anaconda2/lib/python2.7/site-packages/sklearn/cross_validation.py:41: DeprecationWarning: This module was deprecated in version 0.18 in favor of the model_selection module into which all the refactored classes and functions are moved. Also note that the interface of the new CV iterators are different from that of this module. This module will be removed in 0.20.\n",
      "  \"This module will be removed in 0.20.\", DeprecationWarning)\n"
     ]
    },
    {
     "name": "stdout",
     "output_type": "stream",
     "text": [
      "Training data performance: 0.8673123089461455\n"
     ]
    }
   ],
   "source": [
    "import numpy as np\n",
    "import matplotlib.pyplot as plt\n",
    "import mltools as ml\n",
    "import sklearn\n",
    "from sklearn.linear_model import LogisticRegression\n",
    "from sklearn.cross_validation import train_test_split\n",
    "from sklearn.metrics import roc_curve, auc\n",
    "import seaborn as sns\n",
    "import pandas as pd\n",
    "import numpy as np\n",
    "import matplotlib.pyplot as plt\n",
    "import mltools as ml\n",
    "from sklearn.neighbors import KNeighborsClassifier\n",
    "\n",
    "X_train = np.genfromtxt('data/X_train.txt', delimiter=None) \n",
    "Y_train = np.genfromtxt('data/Y_train.txt', delimiter=None) \n",
    "X_test = np.genfromtxt('data/X_test.txt', delimiter=None) \n",
    "X_train, X_val, Y_train, Y_val = ml.splitData(X_train, Y_train, 0.80)\n",
    "\n",
    "knn = KNeighborsClassifier(metric_params=None, n_jobs=1, n_neighbors=5, p=1, weights='uniform')\n",
    "knn.fit(X_train,Y_train) \n",
    "\n",
    "KNNPred = knn.predict_proba(X_train)\n",
    "fpr, tpr, thresholds = roc_curve(Y_train,KNNPred[:,1])\n",
    "roc_auc = auc(fpr, tpr)\n",
    "print(\"Training data performance: \" + str(roc_auc))"
   ]
  },
  {
   "cell_type": "code",
   "execution_count": 3,
   "metadata": {},
   "outputs": [
    {
     "name": "stdout",
     "output_type": "stream",
     "text": [
      "Validation data performance: 0.7062474947930208\n"
     ]
    }
   ],
   "source": [
    "KNNPred = knn.predict_proba(X_val)\n",
    "false_positive_rate, true_positive_rate, thresholds = roc_curve(Y_val,KNNPred[:,1])\n",
    "roc_auc = auc(false_positive_rate, true_positive_rate)\n",
    "print(\"Validation data performance: \" + str(roc_auc))"
   ]
  },
  {
   "cell_type": "code",
   "execution_count": 4,
   "metadata": {},
   "outputs": [],
   "source": [
    "# Now output a file with two columns, a row ID and a confidence in class 1:\n",
    "KNNPred = knn.predict_proba(X_test)\n",
    "np.savetxt('knn_submit.txt',\n",
    "np.vstack( (np.arange(len(KNNPred)) , KNNPred[:,1]) ).T, '%d, %.2f',header='ID,Prob1',comments='',delimiter=',');"
   ]
  }
 ],
 "metadata": {
  "kernelspec": {
   "display_name": "Python 2",
   "language": "python",
   "name": "python2"
  },
  "language_info": {
   "codemirror_mode": {
    "name": "ipython",
    "version": 2
   },
   "file_extension": ".py",
   "mimetype": "text/x-python",
   "name": "python",
   "nbconvert_exporter": "python",
   "pygments_lexer": "ipython2",
   "version": "2.7.15"
  }
 },
 "nbformat": 4,
 "nbformat_minor": 2
}
